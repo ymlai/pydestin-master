{
 "metadata": {
  "name": ""
 },
 "nbformat": 3,
 "nbformat_minor": 0,
 "worksheets": [
  {
   "cells": [
    {
     "cell_type": "code",
     "collapsed": false,
     "input": [
      "# Necesary Imports\n",
      "import cPickle as pickle\n",
      "from sklearn import svm\n",
      "from load_data import *\n",
      "from network import *\n",
      "import scipy.io as io"
     ],
     "language": "python",
     "metadata": {},
     "outputs": [],
     "prompt_number": 60
    },
    {
     "cell_type": "code",
     "collapsed": false,
     "input": [
      "# *****Define Parameters for the Network and nodes\n",
      "\n",
      "# Network Params\n",
      "num_layers = 4\n",
      "patch_mode = 'Adjacent'\n",
      "image_type = 'Color'\n",
      "network_mode = True\n",
      "# For a Node: specify Your Algorithm Choice and Corresponding parameters\n",
      "\n",
      "# ******************************************************************************************\n",
      "#\n",
      "#                           Incremental Clustering\n",
      "#\n",
      "num_nodes_per_layer = [[8, 8], [4, 4], [2, 2], [1, 1]]\n",
      "num_cents_per_layer = [25, 25, 25, 25]\n",
      "print \"Uniform DeSTIN with Clustering\"\n",
      "algorithm_choice = 'Clustering'\n",
      "alg_params = {'mr': 0.01, 'vr': 0.01, 'sr': 0.001, 'DIMS': [],\n",
      "             'CENTS': [], 'node_id': [],\n",
      "             'num_cents_per_layer': num_cents_per_layer}\n",
      "# ******************************************************************************************\n",
      "'''\n",
      "#  ******************************************************************************************\n",
      "\n",
      "#           Hierarchy Of AutoEncoders\n",
      "\n",
      "print \"Uniform DeSTIN with AutoEncoders\"\n",
      "num_nodes_per_layer = [[8, 8], [4, 4], [2, 2], [1, 1]]\n",
      "num_cents_per_layer = [25, 25, 25, 25]\n",
      "algorithm_choice = 'AutoEncoder'\n",
      "inp_size = 48\n",
      "hid_size = 100\n",
      "alg_params = [[inp_size, hid_size], [4 * hid_size, hid_size],\n",
      "             [4 * hid_size, hid_size], [4 * hid_size, hid_size]]\n",
      "#  ******************************************************************************************\n",
      "'''"
     ],
     "language": "python",
     "metadata": {},
     "outputs": [
      {
       "output_type": "stream",
       "stream": "stdout",
       "text": [
        "Uniform DeSTIN with Clustering\n"
       ]
      },
      {
       "metadata": {},
       "output_type": "pyout",
       "prompt_number": 61,
       "text": [
        "'\\n#  ******************************************************************************************\\n\\n#           Hierarchy Of AutoEncoders\\n\\nprint \"Uniform DeSTIN with AutoEncoders\"\\nnum_nodes_per_layer = [[8, 8], [4, 4], [2, 2], [1, 1]]\\nnum_cents_per_layer = [25, 25, 25, 25]\\nalgorithm_choice = \\'AutoEncoder\\'\\ninp_size = 48\\nhid_size = 100\\nalg_params = [[inp_size, hid_size], [4 * hid_size, hid_size],\\n             [4 * hid_size, hid_size], [4 * hid_size, hid_size]]\\n#  ******************************************************************************************\\n'"
       ]
      }
     ],
     "prompt_number": 61
    },
    {
     "cell_type": "code",
     "collapsed": false,
     "input": [
      "#Load Data, 10 loads 5 batches in total 50,000\n",
      "# 1 to 5 load batch_1 to batch_5training images, 1 to five \n",
      "[data, labels] = loadCifar(10)\n",
      "del labels"
     ],
     "language": "python",
     "metadata": {},
     "outputs": [],
     "prompt_number": 62
    },
    {
     "cell_type": "code",
     "collapsed": false,
     "input": [
      "# Declare a Network Object and load Training Data\n",
      "cifar_stat = load_cifar(4)\n",
      "DESTIN = Network(\n",
      "    num_layers, algorithm_choice, alg_params, num_nodes_per_layer, cifar_stat, patch_mode, image_type,)\n",
      "#, , , , cifar_stat, patch_mode='Adjacent', image_type='Color'\n",
      "DESTIN.setmode(network_mode)\n",
      "DESTIN.set_lowest_layer(0)\n",
      "# Load Data\n",
      "# Modify the location of the training data in file \"load_data.py\"\n",
      "\n",
      "# data = np.random.rand(5,32*32*3)\n",
      "# Initialize Network; there is is also a layer-wise initialization option\n",
      "DESTIN.init_network()"
     ],
     "language": "python",
     "metadata": {},
     "outputs": [],
     "prompt_number": 63
    },
    {
     "cell_type": "code",
     "collapsed": false,
     "input": [
      "#Train the Network\n",
      "print \"DeSTIN Training/with out Feature extraction\"\n",
      "for epoch in range(5):\n",
      "    for I in range(data.shape[0]):  # For Every image in the data set\n",
      "        if I % 10000 == 0:\n",
      "            print(\"Training Iteration Number %d\" % I)\n",
      "        for L in range(DESTIN.number_of_layers):\n",
      "            if L == 0:\n",
      "                img = data[I][:].reshape(32, 32, 3)\n",
      "                # This is equivalent to sharing centroids or kernels\n",
      "                DESTIN.layers[0][L].load_input(img, [4, 4])\n",
      "                DESTIN.layers[0][L].do_layer_learning()\n",
      "            else:\n",
      "                DESTIN.layers[0][L].load_input(\n",
      "                    DESTIN.layers[0][L - 1].nodes, [2, 2])\n",
      "                DESTIN.layers[0][L].do_layer_learning()\n",
      "    print \"Epoch = \" + str(epoch+1)"
     ],
     "language": "python",
     "metadata": {},
     "outputs": [
      {
       "output_type": "stream",
       "stream": "stdout",
       "text": [
        "DeSTIN Training/with out Feature extraction\n",
        "Training Iteration Number 0\n",
        "Training Iteration Number 10000"
       ]
      },
      {
       "output_type": "stream",
       "stream": "stdout",
       "text": [
        "\n",
        "Training Iteration Number 20000"
       ]
      },
      {
       "output_type": "stream",
       "stream": "stdout",
       "text": [
        "\n",
        "Training Iteration Number 30000"
       ]
      },
      {
       "output_type": "stream",
       "stream": "stdout",
       "text": [
        "\n",
        "Training Iteration Number 40000"
       ]
      },
      {
       "output_type": "stream",
       "stream": "stdout",
       "text": [
        "\n",
        "Epoch = 1"
       ]
      },
      {
       "output_type": "stream",
       "stream": "stdout",
       "text": [
        "\n",
        "Training Iteration Number 0\n",
        "Training Iteration Number 10000"
       ]
      },
      {
       "output_type": "stream",
       "stream": "stdout",
       "text": [
        "\n",
        "Training Iteration Number 20000"
       ]
      },
      {
       "output_type": "stream",
       "stream": "stdout",
       "text": [
        "\n",
        "Training Iteration Number 30000"
       ]
      },
      {
       "output_type": "stream",
       "stream": "stdout",
       "text": [
        "\n",
        "Training Iteration Number 40000"
       ]
      },
      {
       "output_type": "stream",
       "stream": "stdout",
       "text": [
        "\n",
        "Epoch = 2"
       ]
      },
      {
       "output_type": "stream",
       "stream": "stdout",
       "text": [
        "\n",
        "Training Iteration Number 0\n",
        "Training Iteration Number 10000"
       ]
      },
      {
       "output_type": "stream",
       "stream": "stdout",
       "text": [
        "\n",
        "Training Iteration Number 20000"
       ]
      },
      {
       "output_type": "stream",
       "stream": "stdout",
       "text": [
        "\n",
        "Training Iteration Number 30000"
       ]
      },
      {
       "output_type": "stream",
       "stream": "stdout",
       "text": [
        "\n",
        "Training Iteration Number 40000"
       ]
      },
      {
       "output_type": "stream",
       "stream": "stdout",
       "text": [
        "\n",
        "Epoch = 3"
       ]
      },
      {
       "output_type": "stream",
       "stream": "stdout",
       "text": [
        "\n",
        "Training Iteration Number 0\n",
        "Training Iteration Number 10000"
       ]
      },
      {
       "output_type": "stream",
       "stream": "stdout",
       "text": [
        "\n",
        "Training Iteration Number 20000"
       ]
      },
      {
       "output_type": "stream",
       "stream": "stdout",
       "text": [
        "\n",
        "Training Iteration Number 30000"
       ]
      },
      {
       "output_type": "stream",
       "stream": "stdout",
       "text": [
        "\n",
        "Training Iteration Number 40000"
       ]
      },
      {
       "output_type": "stream",
       "stream": "stdout",
       "text": [
        "\n",
        "Epoch = 4"
       ]
      },
      {
       "output_type": "stream",
       "stream": "stdout",
       "text": [
        "\n",
        "Training Iteration Number 0\n",
        "Training Iteration Number 10000"
       ]
      },
      {
       "output_type": "stream",
       "stream": "stdout",
       "text": [
        "\n",
        "Training Iteration Number 20000"
       ]
      },
      {
       "output_type": "stream",
       "stream": "stdout",
       "text": [
        "\n",
        "Training Iteration Number 30000"
       ]
      },
      {
       "output_type": "stream",
       "stream": "stdout",
       "text": [
        "\n",
        "Training Iteration Number 40000"
       ]
      },
      {
       "output_type": "stream",
       "stream": "stdout",
       "text": [
        "\n",
        "Epoch = 5"
       ]
      },
      {
       "output_type": "stream",
       "stream": "stdout",
       "text": [
        "\n"
       ]
      }
     ],
     "prompt_number": 67
    },
    {
     "cell_type": "code",
     "collapsed": false,
     "input": [
      "print(\"DesTIN running/Feature Extraction/ over the Training Data\")\n",
      "network_mode = False\n",
      "DESTIN.setmode(network_mode)\n",
      "\n",
      "# Testin it over the training set\n",
      "[data, labels] = loadCifar(10)\n",
      "del labels\n",
      "for I in range(data.shape[0]):  # For Every image in the data set\n",
      "    if I % 1000 == 0:\n",
      "        print(\"Testing Iteration Number %d\" % I)\n",
      "    for L in range(DESTIN.number_of_layers):\n",
      "        if L == 0:\n",
      "            img = data[I][:].reshape(32, 32, 3)\n",
      "            DESTIN.layers[0][L].load_input(img, [4, 4])\n",
      "            DESTIN.layers[0][L].do_layer_learning()\n",
      "        else:\n",
      "            DESTIN.layers[0][L].load_input(\n",
      "                DESTIN.layers[0][L - 1].nodes, [2, 2])\n",
      "            DESTIN.layers[0][L].do_layer_learning()\n",
      "    DESTIN.update_belief_exporter()\n",
      "    if I in range(199, 50999, 200):\n",
      "        Name = 'train/' + str(I + 1) + '.txt'\n",
      "        #file_id = open(Name, 'w')\n",
      "        np.savetxt(Name, np.array(DESTIN.network_belief['belief']))\n",
      "        #file_id.close()\n",
      "        # Get rid-off accumulated training beliefs\n",
      "        DESTIN.clean_belief_exporter()\n"
     ],
     "language": "python",
     "metadata": {},
     "outputs": [
      {
       "output_type": "stream",
       "stream": "stdout",
       "text": [
        "DesTIN running/Feature Extraction/ over the Training Data\n",
        "Testing Iteration Number 0"
       ]
      },
      {
       "output_type": "stream",
       "stream": "stdout",
       "text": [
        "\n",
        "Testing Iteration Number 1000"
       ]
      },
      {
       "output_type": "stream",
       "stream": "stdout",
       "text": [
        "\n",
        "Testing Iteration Number 2000"
       ]
      },
      {
       "output_type": "stream",
       "stream": "stdout",
       "text": [
        "\n",
        "Testing Iteration Number 3000"
       ]
      },
      {
       "output_type": "stream",
       "stream": "stdout",
       "text": [
        "\n",
        "Testing Iteration Number 4000"
       ]
      },
      {
       "output_type": "stream",
       "stream": "stdout",
       "text": [
        "\n",
        "Testing Iteration Number 5000"
       ]
      },
      {
       "output_type": "stream",
       "stream": "stdout",
       "text": [
        "\n",
        "Testing Iteration Number 6000"
       ]
      },
      {
       "output_type": "stream",
       "stream": "stdout",
       "text": [
        "\n",
        "Testing Iteration Number 7000"
       ]
      },
      {
       "output_type": "stream",
       "stream": "stdout",
       "text": [
        "\n",
        "Testing Iteration Number 8000"
       ]
      },
      {
       "output_type": "stream",
       "stream": "stdout",
       "text": [
        "\n",
        "Testing Iteration Number 9000"
       ]
      },
      {
       "output_type": "stream",
       "stream": "stdout",
       "text": [
        "\n",
        "Testing Iteration Number 10000"
       ]
      },
      {
       "output_type": "stream",
       "stream": "stdout",
       "text": [
        "\n",
        "Testing Iteration Number 11000"
       ]
      },
      {
       "output_type": "stream",
       "stream": "stdout",
       "text": [
        "\n",
        "Testing Iteration Number 12000"
       ]
      },
      {
       "output_type": "stream",
       "stream": "stdout",
       "text": [
        "\n",
        "Testing Iteration Number 13000"
       ]
      },
      {
       "output_type": "stream",
       "stream": "stdout",
       "text": [
        "\n",
        "Testing Iteration Number 14000"
       ]
      },
      {
       "output_type": "stream",
       "stream": "stdout",
       "text": [
        "\n",
        "Testing Iteration Number 15000"
       ]
      },
      {
       "output_type": "stream",
       "stream": "stdout",
       "text": [
        "\n",
        "Testing Iteration Number 16000"
       ]
      },
      {
       "output_type": "stream",
       "stream": "stdout",
       "text": [
        "\n",
        "Testing Iteration Number 17000"
       ]
      },
      {
       "output_type": "stream",
       "stream": "stdout",
       "text": [
        "\n",
        "Testing Iteration Number 18000"
       ]
      },
      {
       "output_type": "stream",
       "stream": "stdout",
       "text": [
        "\n",
        "Testing Iteration Number 19000"
       ]
      },
      {
       "output_type": "stream",
       "stream": "stdout",
       "text": [
        "\n",
        "Testing Iteration Number 20000"
       ]
      },
      {
       "output_type": "stream",
       "stream": "stdout",
       "text": [
        "\n",
        "Testing Iteration Number 21000"
       ]
      },
      {
       "output_type": "stream",
       "stream": "stdout",
       "text": [
        "\n",
        "Testing Iteration Number 22000"
       ]
      },
      {
       "output_type": "stream",
       "stream": "stdout",
       "text": [
        "\n",
        "Testing Iteration Number 23000"
       ]
      },
      {
       "output_type": "stream",
       "stream": "stdout",
       "text": [
        "\n",
        "Testing Iteration Number 24000"
       ]
      },
      {
       "output_type": "stream",
       "stream": "stdout",
       "text": [
        "\n",
        "Testing Iteration Number 25000"
       ]
      },
      {
       "output_type": "stream",
       "stream": "stdout",
       "text": [
        "\n",
        "Testing Iteration Number 26000"
       ]
      },
      {
       "output_type": "stream",
       "stream": "stdout",
       "text": [
        "\n",
        "Testing Iteration Number 27000"
       ]
      },
      {
       "output_type": "stream",
       "stream": "stdout",
       "text": [
        "\n",
        "Testing Iteration Number 28000"
       ]
      },
      {
       "output_type": "stream",
       "stream": "stdout",
       "text": [
        "\n",
        "Testing Iteration Number 29000"
       ]
      },
      {
       "output_type": "stream",
       "stream": "stdout",
       "text": [
        "\n",
        "Testing Iteration Number 30000"
       ]
      },
      {
       "output_type": "stream",
       "stream": "stdout",
       "text": [
        "\n",
        "Testing Iteration Number 31000"
       ]
      },
      {
       "output_type": "stream",
       "stream": "stdout",
       "text": [
        "\n",
        "Testing Iteration Number 32000"
       ]
      },
      {
       "output_type": "stream",
       "stream": "stdout",
       "text": [
        "\n",
        "Testing Iteration Number 33000"
       ]
      },
      {
       "output_type": "stream",
       "stream": "stdout",
       "text": [
        "\n",
        "Testing Iteration Number 34000"
       ]
      },
      {
       "output_type": "stream",
       "stream": "stdout",
       "text": [
        "\n",
        "Testing Iteration Number 35000"
       ]
      },
      {
       "output_type": "stream",
       "stream": "stdout",
       "text": [
        "\n",
        "Testing Iteration Number 36000"
       ]
      },
      {
       "output_type": "stream",
       "stream": "stdout",
       "text": [
        "\n",
        "Testing Iteration Number 37000"
       ]
      },
      {
       "output_type": "stream",
       "stream": "stdout",
       "text": [
        "\n",
        "Testing Iteration Number 38000"
       ]
      },
      {
       "output_type": "stream",
       "stream": "stdout",
       "text": [
        "\n",
        "Testing Iteration Number 39000"
       ]
      },
      {
       "output_type": "stream",
       "stream": "stdout",
       "text": [
        "\n",
        "Testing Iteration Number 40000"
       ]
      },
      {
       "output_type": "stream",
       "stream": "stdout",
       "text": [
        "\n",
        "Testing Iteration Number 41000"
       ]
      },
      {
       "output_type": "stream",
       "stream": "stdout",
       "text": [
        "\n",
        "Testing Iteration Number 42000"
       ]
      },
      {
       "output_type": "stream",
       "stream": "stdout",
       "text": [
        "\n",
        "Testing Iteration Number 43000"
       ]
      },
      {
       "output_type": "stream",
       "stream": "stdout",
       "text": [
        "\n",
        "Testing Iteration Number 44000"
       ]
      },
      {
       "output_type": "stream",
       "stream": "stdout",
       "text": [
        "\n",
        "Testing Iteration Number 45000"
       ]
      },
      {
       "output_type": "stream",
       "stream": "stdout",
       "text": [
        "\n",
        "Testing Iteration Number 46000"
       ]
      },
      {
       "output_type": "stream",
       "stream": "stdout",
       "text": [
        "\n",
        "Testing Iteration Number 47000"
       ]
      },
      {
       "output_type": "stream",
       "stream": "stdout",
       "text": [
        "\n",
        "Testing Iteration Number 48000"
       ]
      },
      {
       "output_type": "stream",
       "stream": "stdout",
       "text": [
        "\n",
        "Testing Iteration Number 49000"
       ]
      },
      {
       "output_type": "stream",
       "stream": "stdout",
       "text": [
        "\n"
       ]
      }
     ],
     "prompt_number": 68
    },
    {
     "cell_type": "code",
     "collapsed": false,
     "input": [
      "print(\"Feature Extraction with the test set\")\n",
      "[data, labels] = loadCifar(6)\n",
      "del labels\n",
      "for I in range(data.shape[0]):  # For Every image in the data set\n",
      "    if I % 1000 == 0:\n",
      "        print(\"Testing Iteration Number %d\" % (I+50000))\n",
      "    for L in range(DESTIN.number_of_layers):\n",
      "        if L == 0:\n",
      "            img = data[I][:].reshape(32, 32, 3)\n",
      "            DESTIN.layers[0][L].load_input(img, [4, 4])\n",
      "            DESTIN.layers[0][L].do_layer_learning()  # Calculates belief for\n",
      "        else:\n",
      "            DESTIN.layers[0][L].load_input(\n",
      "                DESTIN.layers[0][L - 1].nodes, [2, 2])\n",
      "            DESTIN.layers[0][L].do_layer_learning()\n",
      "    DESTIN.update_belief_exporter()\n",
      "    if I in range(199, 10199, 200):\n",
      "        Name = 'test/' + str(I + 1) + '.txt'\n",
      "        np.savetxt(Name, np.array(DESTIN.network_belief['belief']))\n",
      "        # Get rid-off accumulated training beliefs\n",
      "        DESTIN.clean_belief_exporter()"
     ],
     "language": "python",
     "metadata": {},
     "outputs": [
      {
       "output_type": "stream",
       "stream": "stdout",
       "text": [
        "Feature Extraction with the test set\n",
        "Testing Iteration Number 50000\n",
        "Testing Iteration Number 51000"
       ]
      },
      {
       "output_type": "stream",
       "stream": "stdout",
       "text": [
        "\n",
        "Testing Iteration Number 52000"
       ]
      },
      {
       "output_type": "stream",
       "stream": "stdout",
       "text": [
        "\n",
        "Testing Iteration Number 53000"
       ]
      },
      {
       "output_type": "stream",
       "stream": "stdout",
       "text": [
        "\n",
        "Testing Iteration Number 54000"
       ]
      },
      {
       "output_type": "stream",
       "stream": "stdout",
       "text": [
        "\n",
        "Testing Iteration Number 55000"
       ]
      },
      {
       "output_type": "stream",
       "stream": "stdout",
       "text": [
        "\n",
        "Testing Iteration Number 56000"
       ]
      },
      {
       "output_type": "stream",
       "stream": "stdout",
       "text": [
        "\n",
        "Testing Iteration Number 57000"
       ]
      },
      {
       "output_type": "stream",
       "stream": "stdout",
       "text": [
        "\n",
        "Testing Iteration Number 58000"
       ]
      },
      {
       "output_type": "stream",
       "stream": "stdout",
       "text": [
        "\n",
        "Testing Iteration Number 59000"
       ]
      },
      {
       "output_type": "stream",
       "stream": "stdout",
       "text": [
        "\n"
       ]
      }
     ],
     "prompt_number": 149
    },
    {
     "cell_type": "code",
     "collapsed": false,
     "input": [
      "print \"Training With SVM\"\n",
      "print(\"Loading training and test labels\")\n",
      "[trainData, trainLabel] = loadCifar(10)\n",
      "del trainData\n",
      "[testData, testLabel] = loadCifar(6)\n",
      "del testData"
     ],
     "language": "python",
     "metadata": {},
     "outputs": [
      {
       "output_type": "stream",
       "stream": "stdout",
       "text": [
        "Training With SVM\n",
        "Loading training and test labels\n"
       ]
      }
     ],
     "prompt_number": 150
    },
    {
     "cell_type": "code",
     "collapsed": false,
     "input": [
      "# Load Training and Test Data/Extracted from DeSTIN\n",
      "\n",
      "# here we do not use the whole set of feature extracted from DeSTIN\n",
      "# We use the features which are extracted from the top few layers\n",
      "print(\"Loading training and testing features\")\n",
      "\n",
      "I = 199\n",
      "Name = 'train/' + str(I + 1) + '.txt'\n",
      "trainData = np.ravel(np.loadtxt(Name))\n",
      "\n",
      "\n",
      "for I in range(399, 50000, 200):\n",
      "    Name = 'train/' + str(I + 1) + '.txt'\n",
      "    file_id = open(Name, 'r')\n",
      "    Temp = np.ravel(np.loadtxt(Name))\n",
      "    trainData = np.hstack((trainData, Temp))\n",
      "\n",
      "del Temp\n",
      "\n"
     ],
     "language": "python",
     "metadata": {},
     "outputs": [
      {
       "output_type": "stream",
       "stream": "stdout",
       "text": [
        "Loading training and testing features\n"
       ]
      }
     ],
     "prompt_number": 166
    },
    {
     "cell_type": "code",
     "collapsed": false,
     "input": [
      "Len = np.shape(trainData)[0]\n",
      "Size = np.size(trainData)\n",
      "\n",
      "Width = Len/50000\n",
      "print Len\n",
      "print Width*50000\n",
      "trainData = trainData.reshape((50000, Width))"
     ],
     "language": "python",
     "metadata": {},
     "outputs": [
      {
       "output_type": "stream",
       "stream": "stdout",
       "text": [
        "106250000\n",
        "106250000\n"
       ]
      }
     ],
     "prompt_number": 173
    },
    {
     "cell_type": "code",
     "collapsed": false,
     "input": [
      "# Training SVM\n",
      "SVM = svm.LinearSVC(C=1)\n",
      "# C=100, kernel='rbf')\n",
      "print \"Training the SVM\"\n",
      "trainLabel = np.squeeze(np.asarray(trainLabel).reshape(50000, 1))\n",
      "#print trainData\n",
      "SVM.fit(trainData, trainLabel)\n",
      "print(\"Training Score = %f \" % float(100 * SVM.score(trainData, trainLabel, sample_weight=None)))\n",
      "#print(\"Training Accuracy = %f\" % (SVM.score(trainData, trainLabel) * 100))\n",
      "eff = {}\n",
      "eff['train'] = SVM.score(trainData, trainLabel) * 100\n",
      "del trainData\n",
      "\n"
     ],
     "language": "python",
     "metadata": {},
     "outputs": [
      {
       "output_type": "stream",
       "stream": "stdout",
       "text": [
        "Training the SVM\n",
        "Training Score = 51.118000 "
       ]
      },
      {
       "output_type": "stream",
       "stream": "stdout",
       "text": [
        "\n"
       ]
      }
     ],
     "prompt_number": 174
    },
    {
     "cell_type": "code",
     "collapsed": false,
     "input": [],
     "language": "python",
     "metadata": {},
     "outputs": []
    },
    {
     "cell_type": "code",
     "collapsed": false,
     "input": [
      "testData = np.array([])\n",
      "print(\"Loading training and testing features\")\n",
      "\n",
      "I = 399\n",
      "Name = 'test/' + str(I + 1) + '.txt'\n",
      "testData = np.ravel(np.loadtxt(Name))\n",
      "\n",
      "for I in range(599, 10000, 200):\n",
      "    Name = 'test/' + str(I + 1) + '.txt'\n",
      "    file_id = open(Name, 'r')\n",
      "    Temp = np.ravel(np.loadtxt(Name))\n",
      "    testData = np.hstack((testData, Temp))\n",
      "\n",
      "del Temp\n",
      "\n",
      "Len = np.shape(testData)[0]\n",
      "Size = np.size(testData)\n",
      "\n"
     ],
     "language": "python",
     "metadata": {},
     "outputs": [
      {
       "output_type": "stream",
       "stream": "stdout",
       "text": [
        "Loading training and testing features\n"
       ]
      }
     ],
     "prompt_number": 186
    },
    {
     "cell_type": "code",
     "collapsed": false,
     "input": [
      "I = 399\n",
      "Name = 'test/' + str(I + 1) + '.txt'\n",
      "testData1 = np.ravel(np.loadtxt(Name))\n",
      "print np.shape(testData1)[0]/200.0"
     ],
     "language": "python",
     "metadata": {},
     "outputs": [
      {
       "output_type": "stream",
       "stream": "stdout",
       "text": [
        "2125.0\n"
       ]
      }
     ],
     "prompt_number": 187
    },
    {
     "cell_type": "code",
     "collapsed": false,
     "input": [
      "Width = np.float(Len)/9800.0\n",
      "print Len\n",
      "print Size\n",
      "testData = testData.reshape((9800, Width))\n",
      "\n",
      "print \"Predicting Test samples\"\n",
      "print(\"Test Score = %f\" % float(100 * SVM.score(testData, testLabel[200:10000], sample_weight = None)))\n",
      "#print(\"Training Accuracy = %f\" % (SVM.score(testData, testLabel) * 100))\n",
      "eff['test'] = SVM.score(testData, testLabel[200:10000]) * 100\n",
      "io.savemat('accuracy.mat', eff)"
     ],
     "language": "python",
     "metadata": {},
     "outputs": [
      {
       "output_type": "stream",
       "stream": "stdout",
       "text": [
        "20825000\n",
        "20825000\n",
        "Predicting Test samples\n",
        "Test Score = 42.224490"
       ]
      },
      {
       "output_type": "stream",
       "stream": "stdout",
       "text": [
        "\n"
       ]
      }
     ],
     "prompt_number": 191
    },
    {
     "cell_type": "code",
     "collapsed": false,
     "input": [],
     "language": "python",
     "metadata": {},
     "outputs": []
    }
   ],
   "metadata": {}
  }
 ]
}